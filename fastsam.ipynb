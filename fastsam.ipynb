{
 "cells": [
  {
   "cell_type": "code",
   "execution_count": 36,
   "metadata": {},
   "outputs": [
    {
     "name": "stdout",
     "output_type": "stream",
     "text": [
      "512 683\n"
     ]
    },
    {
     "name": "stderr",
     "output_type": "stream",
     "text": [
      "\n",
      "WARNING ⚠️ imgsz=[512, 683] must be multiple of max stride 32, updating to [512, 704]\n",
      "0: 512x384 19 objects, 50.3ms\n",
      "Speed: 1.2ms preprocess, 50.3ms inference, 4.3ms postprocess per image at shape (1, 3, 512, 704)\n"
     ]
    },
    {
     "ename": "TypeError",
     "evalue": "FastSAMPrompt.__init__() got an unexpected keyword argument 'better_quality'",
     "output_type": "error",
     "traceback": [
      "\u001b[0;31m---------------------------------------------------------------------------\u001b[0m",
      "\u001b[0;31mTypeError\u001b[0m                                 Traceback (most recent call last)",
      "Cell \u001b[0;32mIn[36], line 17\u001b[0m\n\u001b[1;32m     14\u001b[0m \u001b[38;5;28mprint\u001b[39m(img_width,img_height)\n\u001b[1;32m     16\u001b[0m everything_results \u001b[38;5;241m=\u001b[39m model(image, device\u001b[38;5;241m=\u001b[39mDEVICE, retina_masks\u001b[38;5;241m=\u001b[39m\u001b[38;5;28;01mTrue\u001b[39;00m,imgsz\u001b[38;5;241m=\u001b[39m[img_width,img_height], conf\u001b[38;5;241m=\u001b[39m\u001b[38;5;241m0.4\u001b[39m, iou\u001b[38;5;241m=\u001b[39m\u001b[38;5;241m0.9\u001b[39m,)\n\u001b[0;32m---> 17\u001b[0m prompt_process \u001b[38;5;241m=\u001b[39m \u001b[43mFastSAMPrompt\u001b[49m\u001b[43m(\u001b[49m\u001b[43mimage\u001b[49m\u001b[43m,\u001b[49m\u001b[43m \u001b[49m\u001b[43meverything_results\u001b[49m\u001b[43m,\u001b[49m\u001b[43m \u001b[49m\u001b[43mdevice\u001b[49m\u001b[38;5;241;43m=\u001b[39;49m\u001b[43mDEVICE\u001b[49m\u001b[43m,\u001b[49m\u001b[43mbetter_quality\u001b[49m\u001b[38;5;241;43m=\u001b[39;49m\u001b[38;5;28;43;01mTrue\u001b[39;49;00m\u001b[43m)\u001b[49m\n\u001b[1;32m     19\u001b[0m \u001b[38;5;66;03m# everything prompt\u001b[39;00m\n\u001b[1;32m     20\u001b[0m ann \u001b[38;5;241m=\u001b[39m prompt_process\u001b[38;5;241m.\u001b[39meverything_prompt()\n",
      "\u001b[0;31mTypeError\u001b[0m: FastSAMPrompt.__init__() got an unexpected keyword argument 'better_quality'"
     ]
    }
   ],
   "source": [
    "import io\n",
    "import requests\n",
    "from fastsam import FastSAM, FastSAMPrompt\n",
    "from PIL import Image\n",
    "\n",
    "model = FastSAM('./FastSAM-x.pt')\n",
    "# IMAGE_PATH = './images/cat.jpg'\n",
    "DEVICE = 'cuda'\n",
    "\n",
    "image = Image.open(io.BytesIO(requests.get(\"https://storage.googleapis.com/capturpwa.appspot.com/64285446de8e6e4305435684%2Fcptr-2d0c7dd7-f7d2-45ff-a9f7-1d25c064c28b.jpeg\").content))\n",
    "\n",
    "img_width = image.size[0]\n",
    "img_height = image.size[1]\n",
    "print(img_width,img_height)\n",
    "\n",
    "everything_results = model(image, device=DEVICE, retina_masks=True,imgsz=[img_width,img_height], conf=0.4, iou=0.9,)\n",
    "prompt_process = FastSAMPrompt(image, everything_results, device=DEVICE)\n",
    "\n",
    "# everything prompt\n",
    "ann = prompt_process.everything_prompt()\n",
    "\n",
    "# bbox default shape [0,0,0,0] -> [x1,y1,x2,y2]\n",
    "# ann = prompt_process.box_prompt(bboxes=[[187.95735994556588, 369.905636317266, 359.9183488319346, 529.8648304004081]])\n",
    "ann = prompt_process.box_prompt(bboxes=[[398.90950328872754, 53.98622800306044, 522.8813789975051, 166.95740882427953]])\n",
    "\n",
    "# text prompt\n",
    "# ann = prompt_process.text_prompt(text='a photo of a cat')\n",
    "\n",
    "# point prompt\n",
    "# points default [[0,0]] [[x1,y1],[x2,y2]]\n",
    "# point_label default [0] [1,0] 0:background, 1:foreground\n",
    "# ann = prompt_process.point_prompt(points=[[150,200],[100,400]], pointlabel=[1])\n",
    "# ann = prompt_process.point_prompt(points=[[200,300]], pointlabel=[1])\n",
    "\n",
    "print(ann.tolist())\n",
    "\n",
    "prompt_process.plot(annotations=ann,output_path='./output/cat.jpg',)"
   ]
  }
 ],
 "metadata": {
  "kernelspec": {
   "display_name": ".venv",
   "language": "python",
   "name": "python3"
  },
  "language_info": {
   "codemirror_mode": {
    "name": "ipython",
    "version": 3
   },
   "file_extension": ".py",
   "mimetype": "text/x-python",
   "name": "python",
   "nbconvert_exporter": "python",
   "pygments_lexer": "ipython3",
   "version": "3.10.12"
  }
 },
 "nbformat": 4,
 "nbformat_minor": 2
}
